{
 "cells": [
  {
   "cell_type": "code",
   "execution_count": 1,
   "metadata": {},
   "outputs": [
    {
     "name": "stdout",
     "output_type": "stream",
     "text": [
      "Enter Your Name:muhammad hamza shafiq\n",
      "English Marks:90\n",
      "Urdu Marks:90\n",
      "Math Marks:75\n",
      "Islamiyat Marks:80\n",
      "Physics Marks:65\n",
      "Grade : A\n"
     ]
    }
   ],
   "source": [
    "import csv\n",
    "Name = input(\"Enter Your Name:\")\n",
    "sub1 = float(input(\"English Marks:\"))\n",
    "sub2 = float(input(\"Urdu Marks:\"))\n",
    "sub3 = float(input(\"Math Marks:\"))\n",
    "sub4 = float(input(\"Islamiyat Marks:\"))\n",
    "sub5 = float(input(\"Physics Marks:\"))\n",
    "\n",
    "avg=(sub1+sub2+sub3+sub4+sub5)/ 5\n",
    "\n",
    "if(avg>=90):\n",
    "    print(\"Grade : A1\")\n",
    "elif(avg>=80):\n",
    "    print(\"Grade : A\")\n",
    "elif (avg >= 70):\n",
    "    print(\"Grade : B\")\n",
    "elif (avg >= 60):\n",
    "    print(\"Grade : C\")\n",
    "elif (avg >= 50):\n",
    "    print(\"Grade : D\")\n",
    "else:\n",
    "    print(\"Grade : F\")\n",
    "    \n",
    "uservalue = [\"Name\",\"sub1\",\"sub2\",\"sub3\",\"sub4\",\"sub5\",\"avg\"]\n",
    "\n",
    "with open(\"marksheet.csv\",\"w\" ,newline=\"\") as f:\n",
    "\n",
    "        file_handler = csv.writer(f, delimiter=',')    \n",
    "        \n",
    "        file_handler.writerow([\"Name\", \"sub1\", \"sub2\", \"sub3\", \"sub4\", \"sub5\", \"avg\", \"Grade\"])\n",
    "        file_handler.writerow(uservalue)"
   ]
  },
  {
   "cell_type": "code",
   "execution_count": null,
   "metadata": {},
   "outputs": [],
   "source": []
  }
 ],
 "metadata": {
  "kernelspec": {
   "display_name": "Python 3",
   "language": "python",
   "name": "python3"
  },
  "language_info": {
   "codemirror_mode": {
    "name": "ipython",
    "version": 3
   },
   "file_extension": ".py",
   "mimetype": "text/x-python",
   "name": "python",
   "nbconvert_exporter": "python",
   "pygments_lexer": "ipython3",
   "version": "3.7.3"
  }
 },
 "nbformat": 4,
 "nbformat_minor": 2
}
